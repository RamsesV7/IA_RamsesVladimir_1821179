{
  "nbformat": 4,
  "nbformat_minor": 0,
  "metadata": {
    "colab": {
      "name": "IA_Ejercicio2_RamsesVladimir_1821179.ipynb",
      "provenance": [],
      "collapsed_sections": []
    },
    "kernelspec": {
      "name": "python3",
      "display_name": "Python 3"
    },
    "language_info": {
      "name": "python"
    }
  },
  "cells": [
    {
      "cell_type": "markdown",
      "metadata": {
        "id": "jBo0EkegbrNH"
      },
      "source": [
        "Actividad 3-Ejercicios Introducción Phyton, 2da Parte\n"
      ]
    },
    {
      "cell_type": "code",
      "metadata": {
        "id": "U17aSOjW9GE6"
      },
      "source": [
        "#encoding:UTF-8\n",
        "import random\n",
        "\n",
        "aleatorio = random.randrange(0, 3)\n",
        "elijePc = \"\"\n",
        "print(\"1)Piedra\")\n",
        "print(\"2)Papel\")\n",
        "print(\"3)Tijera\")\n",
        "opcion = int(input(\"Que elijes: \"))\n",
        "\n",
        "if opcion == 1:\n",
        "    elijeUsuario = \"piedra\"\n",
        "elif opcion == 2:\n",
        "    elijeUsuario = \"papel\"\n",
        "elif opcion == 3:\n",
        "    elijeUsuario = \"tijera\"\n",
        "print(\"Tu elijes: \", elijeUsuario)\n",
        "\n",
        "if aleatorio == 0:\n",
        "    elijePc = \"piedra\"\n",
        "elif aleatorio == 1:\n",
        "    elijePc = \"papel\"\n",
        "elif aleatorio == 2:\n",
        "    elijePc = \"tijera\"\n",
        "print(\"PC elijio: \", elijePc)\n",
        "print(\"...\")\n",
        "if elijePc == \"piedra\" and elijeUsuario == \"papel\":\n",
        "    print(\"Ganaste, papel envulve piedra\")\n",
        "elif elijePc == \"papel\" and elijeUsuario == \"tijera\":\n",
        "    print(\"Ganaste, Tijera corta papel\")\n",
        "elif elijePc == \"tijera\" and elijeUsuario == \"piedra\":\n",
        "    print(\"Ganaste, Piedra pisa tijera\")\n",
        "if elijePc == \"papel\" and elijeUsuario == \"piedra\":\n",
        "    print(\"perdiste, papel envulve piedra\")\n",
        "elif elijePc == \"tijera\" and elijeUsuario == \"papel\":\n",
        "    print(\"perdiste, Tijera corta papel\")\n",
        "elif elijePc == \"piedra\" and elijeUsuario == \"tijera\":\n",
        "    print(\"perdiste, Piedra pisa tijera\")\n",
        "elif elijePc == elijeUsuario:\n",
        "    print(\"empate\")"
      ],
      "execution_count": null,
      "outputs": []
    },
    {
      "cell_type": "markdown",
      "metadata": {
        "id": "-2PXU-0kOSk5"
      },
      "source": [
        "Actividad 3-Ejercicios Introducción Phyton, 2da Parte"
      ]
    },
    {
      "cell_type": "code",
      "metadata": {
        "colab": {
          "base_uri": "https://localhost:8080/"
        },
        "id": "vbWghXIjOT1K",
        "outputId": "d294cdf6-07a0-47a4-d166-56d3a77261df"
      },
      "source": [
        "#Imprimimos un mensaje para que el usuario sepa de que se trata\n",
        "print(\"Este es un patron\")\n",
        "#Asignamos los valores que se nos piden a la lista\n",
        "list = [1,2,3,4,5,6]\n",
        "n = 7\n",
        "while n < 8:\n",
        "  print(list[0:n-1])\n",
        "  n -= 1\n",
        "  if n == 2:\n",
        "    break\n",
        "while n > 1:\n",
        "      print(list[0:n-1])\n",
        "      n += 1\n",
        "      if n == 8:\n",
        "        break\n",
        "    #Se utilizo el loop para lograr el patron en diferente renglon"
      ],
      "execution_count": 12,
      "outputs": [
        {
          "output_type": "stream",
          "name": "stdout",
          "text": [
            "Este es un patron\n",
            "[1, 2, 3, 4, 5, 6]\n",
            "[1, 2, 3, 4, 5]\n",
            "[1, 2, 3, 4]\n",
            "[1, 2, 3]\n",
            "[1, 2]\n",
            "[1]\n",
            "[1, 2]\n",
            "[1, 2, 3]\n",
            "[1, 2, 3, 4]\n",
            "[1, 2, 3, 4, 5]\n",
            "[1, 2, 3, 4, 5, 6]\n"
          ]
        }
      ]
    }
  ]
}