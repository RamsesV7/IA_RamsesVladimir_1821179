{
  "nbformat": 4,
  "nbformat_minor": 0,
  "metadata": {
    "colab": {
      "name": "Primer_Examen_Parcial_Sabatinos.ipynb",
      "provenance": [],
      "collapsed_sections": []
    },
    "kernelspec": {
      "name": "python3",
      "display_name": "Python 3"
    },
    "language_info": {
      "name": "python"
    }
  },
  "cells": [
    {
      "cell_type": "markdown",
      "metadata": {
        "id": "ZOtpU2dsIBFU"
      },
      "source": [
        "Examen Medio Curso Inteligencia Artificial"
      ]
    },
    {
      "cell_type": "code",
      "metadata": {
        "colab": {
          "base_uri": "https://localhost:8080/"
        },
        "id": "63KSRplXH7fM",
        "outputId": "0dfcee50-dc7e-4e44-a6c6-6acfc90c7633"
      },
      "source": [
        "#Imprimimos la instruccion para el usuario\n",
        "print(\"Da un numero entero al azar:\")\n",
        "#Se coloca un input y se designa como int para que el programa sepa que es un entero\n",
        "numeroazar= int(input())\n",
        "#A traves del input el usuario puede contestar la solicitud\n",
        "print(\"El resultado de la suma es:\")\n",
        "#Imprimimos el valor del numero que da el usuario mas sus anteriores\n",
        "print(na*(na+1)//2)"
      ],
      "execution_count": 10,
      "outputs": [
        {
          "output_type": "stream",
          "name": "stdout",
          "text": [
            "Da un numero entero al azar:\n",
            "3\n",
            "El resultado de la suma es:\n",
            "21\n"
          ]
        }
      ]
    }
  ]
}